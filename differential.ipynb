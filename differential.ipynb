{
  "nbformat": 4,
  "nbformat_minor": 0,
  "metadata": {
    "colab": {
      "provenance": [],
      "authorship_tag": "ABX9TyPabFkcOJ9DnK4TRu9XadNF",
      "include_colab_link": true
    },
    "kernelspec": {
      "name": "python3",
      "display_name": "Python 3"
    },
    "language_info": {
      "name": "python"
    }
  },
  "cells": [
    {
      "cell_type": "markdown",
      "metadata": {
        "id": "view-in-github",
        "colab_type": "text"
      },
      "source": [
        "<a href=\"https://colab.research.google.com/github/KoheiMinoda/Numerical_Calculation_python/blob/main/differential.ipynb\" target=\"_parent\"><img src=\"https://colab.research.google.com/assets/colab-badge.svg\" alt=\"Open In Colab\"/></a>"
      ]
    },
    {
      "cell_type": "code",
      "execution_count": 1,
      "metadata": {
        "colab": {
          "base_uri": "https://localhost:8080/"
        },
        "id": "qRGCK9fici3f",
        "outputId": "7a75fabb-0dcd-48e8-ef2a-e1965bf1137d"
      },
      "outputs": [
        {
          "output_type": "stream",
          "name": "stdout",
          "text": [
            "微小区間を代入してください0.01\n",
            "x \t  2\n",
            "微小区間h 0.01\n",
            "一次微分係数 14.08019999999972\n",
            "二次微分係数 16.120000000086065\n"
          ]
        }
      ],
      "source": [
        "def f(x):\n",
        "  return 2*x**3 - 4*x**2 + 6*x\n",
        "\n",
        "#一次微分係数の計算\n",
        "def first(x, h):\n",
        "  d1 = f(x + h) - f(x)\n",
        "  r1 = d1 / h\n",
        "  return r1\n",
        "\n",
        "#二次微分係数の計算\n",
        "def second(x, h):\n",
        "  d2 = f(x + 2*h) - 2.0*f(x + h) + f(x)\n",
        "  r2 = d2 / h **2\n",
        "  return r2\n",
        "\n",
        "h = float(input(\"微小区間を代入してください\"))\n",
        "\n",
        "x = 2\n",
        "\n",
        "print(\"x \\t \", x)\n",
        "print(\"微小区間h\", h)\n",
        "print(\"一次微分係数\", first(x, h))\n",
        "print(\"二次微分係数\", second(x, h))"
      ]
    }
  ]
}