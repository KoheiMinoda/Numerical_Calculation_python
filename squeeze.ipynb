{
  "nbformat": 4,
  "nbformat_minor": 0,
  "metadata": {
    "colab": {
      "provenance": [],
      "authorship_tag": "ABX9TyNRK3wPkWkuwvPwAurU5pKR",
      "include_colab_link": true
    },
    "kernelspec": {
      "name": "python3",
      "display_name": "Python 3"
    },
    "language_info": {
      "name": "python"
    }
  },
  "cells": [
    {
      "cell_type": "markdown",
      "metadata": {
        "id": "view-in-github",
        "colab_type": "text"
      },
      "source": [
        "<a href=\"https://colab.research.google.com/github/KoheiMinoda/Numerical_Calculation_python/blob/main/squeeze.ipynb\" target=\"_parent\"><img src=\"https://colab.research.google.com/assets/colab-badge.svg\" alt=\"Open In Colab\"/></a>"
      ]
    },
    {
      "cell_type": "markdown",
      "source": [
        "はさみうち法のプログラム。根の探索範囲を[2,6]として、f(x)=x^2-16の解を求める"
      ],
      "metadata": {
        "id": "eYBJsDptmwDg"
      }
    },
    {
      "cell_type": "code",
      "execution_count": 2,
      "metadata": {
        "colab": {
          "base_uri": "https://localhost:8080/"
        },
        "id": "Pw1ucQ2glljq",
        "outputId": "9c38b71a-4cab-43c8-b9f7-710ab5594920"
      },
      "outputs": [
        {
          "output_type": "stream",
          "name": "stdout",
          "text": [
            "はさみうちを行います\n",
            "収束判定の値を代入してください ex = ?[1e-5程度]\n",
            "1e-5\n",
            "探索範囲となる2点a, bを入力してください\n",
            "a = 2\n",
            "b = 6\n",
            "解は以下の通りです\n",
            "n \t xi\n",
            "1 \t 3.5\n",
            "2 \t 3.8947368421052633\n",
            "3 \t 3.978723404255318\n",
            "4 \t 3.9957356076759054\n",
            "5 \t 3.9991467576791804\n",
            "6 \t 3.9998293369741442\n",
            "7 \t 3.9999658668123015\n",
            "8 \t 3.9999931733391594\n"
          ]
        }
      ],
      "source": [
        "from prompt_toolkit.shortcuts.dialogs import yes_no_dialog\n",
        "def f(x):\n",
        "  return x**2 - 16\n",
        "\n",
        "def squeeze(a,b,ex):\n",
        "  n = 1\n",
        "  error_a = 1\n",
        "  error_b = 1\n",
        "\n",
        "  while error_a > ex and error_b > ex:\n",
        "    #点（a, f(a)）と点(b, f(b))を直線で結び、x軸との交点xiを求める。\n",
        "    x_i = (a*f(b) - b*f(a)) / (f(b) - f(a))\n",
        "    y_i = f(x_i)\n",
        "    print(n, \"\\t\", x_i)\n",
        "\n",
        "    posi_nega = y_i*f(b)\n",
        "    error_a = abs(x_i - a) / abs(a)\n",
        "    error_b = abs(x_i - b) / abs(b)\n",
        "\n",
        "    if posi_nega < 0:\n",
        "      a = x_i\n",
        "    else:\n",
        "      b = x_i\n",
        "    n += 1\n",
        "\n",
        "#入力\n",
        "print(\"はさみうちを行います\")\n",
        "print(\"収束判定の値を代入してください ex = ?[1e-5程度]\")\n",
        "ex = float(input())\n",
        "print(\"探索範囲となる2点a, bを入力してください\")\n",
        "a = float(input(\"a = \"))\n",
        "b = float(input(\"b = \"))\n",
        "\n",
        "#出力\n",
        "print(\"解は以下の通りです\")\n",
        "print(\"n \\t xi\")\n",
        "squeeze(a, b, ex)"
      ]
    },
    {
      "cell_type": "code",
      "source": [],
      "metadata": {
        "id": "DwnVLhsbrnLU"
      },
      "execution_count": null,
      "outputs": []
    }
  ]
}