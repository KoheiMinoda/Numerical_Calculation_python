{
  "nbformat": 4,
  "nbformat_minor": 0,
  "metadata": {
    "colab": {
      "provenance": [],
      "authorship_tag": "ABX9TyP1zNift6JiRcM2uBmILUuO",
      "include_colab_link": true
    },
    "kernelspec": {
      "name": "python3",
      "display_name": "Python 3"
    },
    "language_info": {
      "name": "python"
    }
  },
  "cells": [
    {
      "cell_type": "markdown",
      "metadata": {
        "id": "view-in-github",
        "colab_type": "text"
      },
      "source": [
        "<a href=\"https://colab.research.google.com/github/KoheiMinoda/Numerical_Calculation_python/blob/main/trapezoidal.ipynb\" target=\"_parent\"><img src=\"https://colab.research.google.com/assets/colab-badge.svg\" alt=\"Open In Colab\"/></a>"
      ]
    },
    {
      "cell_type": "code",
      "execution_count": 1,
      "metadata": {
        "colab": {
          "base_uri": "https://localhost:8080/"
        },
        "id": "bDq8lHwtaMET",
        "outputId": "60f3d375-dc6b-4702-ba3a-3bf3a4f18183"
      },
      "outputs": [
        {
          "output_type": "stream",
          "name": "stdout",
          "text": [
            "定義域内の分割数（整数）を代入してください10\n",
            "結果および微小区間hは 46.04 0.2\n",
            "分割数n 10\n"
          ]
        }
      ],
      "source": [
        "def f(x):\n",
        "  return 3*x**2 + 10\n",
        "\n",
        "#台形法\n",
        "def trapezoidal(a, b, n):\n",
        "  h = (b - a) / n\n",
        "  G = (h/2) * ((f(a) + f(b)) + 2*sum(f(a + h * i) for i in range(1, n)))\n",
        "\n",
        "  return G, h\n",
        "\n",
        "a = 1.0\n",
        "b = 3.0\n",
        "\n",
        "n = int(input(\"定義域内の分割数（整数）を代入してください\"))\n",
        "\n",
        "print(\"結果および微小区間hは\", *trapezoidal(a, b, n))\n",
        "print(\"分割数n\", n)"
      ]
    }
  ]
}