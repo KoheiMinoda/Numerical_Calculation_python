{
  "nbformat": 4,
  "nbformat_minor": 0,
  "metadata": {
    "colab": {
      "provenance": [],
      "authorship_tag": "ABX9TyNSzjZ2TlY7S2MJPozKorb8",
      "include_colab_link": true
    },
    "kernelspec": {
      "name": "python3",
      "display_name": "Python 3"
    },
    "language_info": {
      "name": "python"
    }
  },
  "cells": [
    {
      "cell_type": "markdown",
      "metadata": {
        "id": "view-in-github",
        "colab_type": "text"
      },
      "source": [
        "<a href=\"https://colab.research.google.com/github/KoheiMinoda/Numerical_Calculation_python/blob/main/dichotomy.ipynb\" target=\"_parent\"><img src=\"https://colab.research.google.com/assets/colab-badge.svg\" alt=\"Open In Colab\"/></a>"
      ]
    },
    {
      "cell_type": "markdown",
      "source": [
        "二分法プログラムで、根の探索範囲を[2,5]として、f(x) = x^2 - 16の解を求める\n"
      ],
      "metadata": {
        "id": "_OwKBFEX_GMi"
      }
    },
    {
      "cell_type": "code",
      "execution_count": 3,
      "metadata": {
        "colab": {
          "base_uri": "https://localhost:8080/"
        },
        "id": "iQDOvU46_AEW",
        "outputId": "c3ccb400-2f2c-4aad-8f69-27ab8c2e2710"
      },
      "outputs": [
        {
          "output_type": "stream",
          "name": "stdout",
          "text": [
            "二分法を使って解を求めます\n",
            "収束判定の値を入力してください ex = ? [1e-5程度]\n",
            "1e-5\n",
            "探索範囲となる2点a, bをにゅうりょくしてください\n",
            "a = 2\n",
            "b = 5\n",
            "解は以下の通りです\n",
            "n \t Cn\n",
            "1 \t 3.5\n",
            "2 \t 4.25\n",
            "3 \t 3.875\n",
            "4 \t 4.0625\n",
            "5 \t 3.96875\n",
            "6 \t 4.015625\n",
            "7 \t 3.9921875\n",
            "8 \t 4.00390625\n",
            "9 \t 3.998046875\n",
            "10 \t 4.0009765625\n",
            "11 \t 3.99951171875\n",
            "12 \t 4.000244140625\n",
            "13 \t 3.9998779296875\n",
            "14 \t 4.00006103515625\n",
            "15 \t 3.999969482421875\n",
            "16 \t 4.0000152587890625\n",
            "17 \t 3.9999923706054688\n",
            "18 \t 4.000003814697266\n",
            "19 \t 3.999998092651367\n",
            "20 \t 4.000000953674316\n"
          ]
        }
      ],
      "source": [
        "def f(x):\n",
        "  return x**2 - 16\n",
        "\n",
        "def dichotomy(a, b, ex):\n",
        "  n = 1\n",
        "  error = 1\n",
        "\n",
        "  while error > ex:\n",
        "    c_n = (a + b) / 2.0\n",
        "    y_n = f(c_n)\n",
        "    print(n, \"\\t\", c_n)\n",
        "\n",
        "    posi_nega = y_n * f(b)\n",
        "    error = abs(a - b)\n",
        "\n",
        "    if posi_nega < 0:\n",
        "      a = c_n\n",
        "    else:\n",
        "      b = c_n\n",
        "\n",
        "    n += 1\n",
        "\n",
        "print(\"二分法を使って解を求めます\")\n",
        "print(\"収束判定の値を入力してください ex = ? [1e-5程度]\")\n",
        "ex = float(input())\n",
        "print(\"探索範囲となる2点a, bをにゅうりょくしてください\")\n",
        "a =  float(input(\"a = \"))\n",
        "b =  float(input(\"b = \"))\n",
        "\n",
        "print(\"解は以下の通りです\")\n",
        "print(\"n \\t Cn\")\n",
        "dichotomy(a, b, ex)"
      ]
    }
  ]
}