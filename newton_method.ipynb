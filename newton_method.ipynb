{
  "nbformat": 4,
  "nbformat_minor": 0,
  "metadata": {
    "colab": {
      "provenance": [],
      "authorship_tag": "ABX9TyO83hG0vO7Aws0zqcNbUUyi",
      "include_colab_link": true
    },
    "kernelspec": {
      "name": "python3",
      "display_name": "Python 3"
    },
    "language_info": {
      "name": "python"
    }
  },
  "cells": [
    {
      "cell_type": "markdown",
      "metadata": {
        "id": "view-in-github",
        "colab_type": "text"
      },
      "source": [
        "<a href=\"https://colab.research.google.com/github/KoheiMinoda/Numerical_Calculation_python/blob/main/newton_method.ipynb\" target=\"_parent\"><img src=\"https://colab.research.google.com/assets/colab-badge.svg\" alt=\"Open In Colab\"/></a>"
      ]
    },
    {
      "cell_type": "markdown",
      "source": [
        "ニュートン法を用いて、f(x) = x - e^(-x)の解を求める。\n",
        "ここでは、第0近似解をx0=1とする。"
      ],
      "metadata": {
        "id": "B4_D-7bvbnac"
      }
    },
    {
      "cell_type": "code",
      "execution_count": 1,
      "metadata": {
        "id": "o2MMCBC8YegY"
      },
      "outputs": [],
      "source": [
        "import math"
      ]
    },
    {
      "cell_type": "code",
      "source": [
        "def f(x):\n",
        "  return x - math.exp(-x)\n",
        "\n",
        "def f_d(x):\n",
        "  return 1 + math.exp(-x)\n",
        "\n",
        "def newton_method(x0):\n",
        "  #初期値設定\n",
        "  n = 1\n",
        "  error = 1\n",
        "  ex = 1e-5 #収束判定の基準値\n",
        "  x_n = x0 #第0近似根\n",
        "\n",
        "  while error > ex:\n",
        "    x_n1 = x_n - f(x_n) / f_d(x_n) #第n+1近似根の導出\n",
        "    error = abs(x_n1 - x_n) #収束値\n",
        "    print(n, \"\\t\", x_n1)\n",
        "\n",
        "    x_n = x_n1\n",
        "    n += 1\n",
        "\n",
        "print(\"ニュートン法を用いて、解を求めます\")\n",
        "x0 = float(input(\"第0近似根 x0 = ?\"))\n",
        "\n",
        "print(\"解は以下の通りです\")\n",
        "print(\"n \\t xi\")\n",
        "newton_method(x0)"
      ],
      "metadata": {
        "colab": {
          "base_uri": "https://localhost:8080/"
        },
        "id": "zGo7bTZCbk14",
        "outputId": "7702b5c2-2574-45aa-f773-a3cf7bc1ab15"
      },
      "execution_count": 2,
      "outputs": [
        {
          "output_type": "stream",
          "name": "stdout",
          "text": [
            "ニュートン法を用いて、解を求めます\n",
            "第0近似根 x0 = ?1\n",
            "解は以下の通りです\n",
            "n \t xi\n",
            "1 \t 0.5378828427399902\n",
            "2 \t 0.5669869914054133\n",
            "3 \t 0.567143285989123\n",
            "4 \t 0.5671432904097838\n"
          ]
        }
      ]
    }
  ]
}